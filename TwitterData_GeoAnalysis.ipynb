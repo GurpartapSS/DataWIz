{
 "cells": [
  {
   "cell_type": "code",
   "execution_count": 69,
   "metadata": {},
   "outputs": [],
   "source": [
    "import re \n",
    "import tweepy \n",
    "from tweepy import OAuthHandler  \n",
    "import matplotlib.pyplot as plt\n",
    "import json\n",
    "import geopy\n",
    "from geopy.geocoders import Nominatim   \n",
    "import datetime"
   ]
  },
  {
   "cell_type": "code",
   "execution_count": 2,
   "metadata": {},
   "outputs": [
    {
     "name": "stdout",
     "output_type": "stream",
     "text": [
      "Authentication OK\n"
     ]
    }
   ],
   "source": [
    "consumer_key = 'fvK9QDOLVp1CedyCR5Dz76wjZ'\n",
    "consumer_secret = 'UBb22R7pwil0DSfvcdXI4NOWVwCSID1W8fkFHL0T9s0bxlTtCS'\n",
    "access_token = '468385324-9yRxQ5yZGRAEQwCxDqtxBzz4jAbDOt9snLR5tRTh'\n",
    "access_token_secret = 'Im0bJLSL4uY6Je7PlkNwQEwJg0BKcqKDUJwXtRZlpcSUQ'\n",
    "auth = OAuthHandler(consumer_key, consumer_secret) \n",
    "auth.set_access_token(access_token, access_token_secret)    \n",
    "api = tweepy.API(auth)\n",
    "api.verify_credentials()\n",
    "print(\"Authentication OK\")"
   ]
  },
  {
   "cell_type": "code",
   "execution_count": 3,
   "metadata": {},
   "outputs": [],
   "source": [
    "class Client_Twitter(object):\n",
    "  \n",
    "    def __init__(self): \n",
    "            \n",
    "            \n",
    "            # keys and tokens from the Twitter Dev Console\",\n",
    "        consumer_key = 'fvK9QDOLVp1CedyCR5Dz76wjZ'\n",
    "        consumer_secret = 'UBb22R7pwil0DSfvcdXI4NOWVwCSID1W8fkFHL0T9s0bxlTtCS'\n",
    "        access_token = '468385324-9yRxQ5yZGRAEQwCxDqtxBzz4jAbDOt9snLR5tRTh'\n",
    "        access_token_secret = 'Im0bJLSL4uY6Je7PlkNwQEwJg0BKcqKDUJwXtRZlpcSUQ'\n",
    "           \n",
    "        try: \n",
    "                 \n",
    "            self.auth = OAuthHandler(consumer_key, consumer_secret) \n",
    "            self.auth.set_access_token(access_token, access_token_secret)    \n",
    "            self.api = tweepy.API(self.auth)\n",
    "            api.verify_credentials()\n",
    "            print(\"Authentication OK\")\n",
    "        except: \n",
    "            print(\"Error: Authentication Failed\") \n",
    "                \n",
    "            \n",
    "    def get_tweets(self, query, count = 100): \n",
    "       \n",
    "        # empty list to store parsed tweets \n",
    "        tweets = [] \n",
    "  \n",
    "        try: \n",
    "         \n",
    "            fetched_tweets = self.api.search(q = query, count = count)\n",
    "            #(fetched_tweets[0])\n",
    "            \n",
    "            for tweet in fetched_tweets: \n",
    "                ttext = json.dumps(tweet._json)\n",
    "                parsed = json.loads(ttext)\n",
    "                tweets.append(parsed)\n",
    "                \n",
    "               #parsed_tweet['sentiment'] = self.get_tweet_sentiment(tweet.text) \n",
    "  \n",
    "            # return parsed tweets \n",
    "            return tweets \n",
    "  \n",
    "        except tweepy.TweepError as e: \n",
    "            # print error (if any) \n",
    "            print(\"Error : \" + str(e))\n",
    "    \n",
    "    \n",
    "class Location(object):\n",
    "    def getLocation(self,address):\n",
    "        geolocator = Nominatim(user_agent=\"apa\")\n",
    "        location = geolocator.geocode(address)\n",
    "        if location !=None:\n",
    "            return([location.latitude, location.longitude])\n",
    "        else:\n",
    "            return(\"\")"
   ]
  },
  {
   "cell_type": "code",
   "execution_count": 4,
   "metadata": {},
   "outputs": [
    {
     "name": "stdout",
     "output_type": "stream",
     "text": [
      "Authentication OK\n"
     ]
    }
   ],
   "source": [
    "api = Client_Twitter()\n",
    "loc = Location()"
   ]
  },
  {
   "cell_type": "code",
   "execution_count": 5,
   "metadata": {},
   "outputs": [],
   "source": [
    "tweets = api.get_tweets(query = '#coronavirus', count = 100)"
   ]
  },
  {
   "cell_type": "code",
   "execution_count": 13,
   "metadata": {},
   "outputs": [
    {
     "data": {
      "text/plain": [
       "{'created_at': 'Sun Jan 26 07:28:45 +0000 2020',\n",
       " 'id': 1221334143016898560,\n",
       " 'id_str': '1221334143016898560',\n",
       " 'text': 'RT @KemenkesRI: Saat ini, dunia sedang mewaspadai penyebaran Novel Coronavirus (2019-nCoV) yg berasal dari Tiongkok. Virus baru ini penyeba…',\n",
       " 'truncated': False,\n",
       " 'entities': {'hashtags': [],\n",
       "  'symbols': [],\n",
       "  'user_mentions': [{'screen_name': 'KemenkesRI',\n",
       "    'name': 'Kemenkes RI',\n",
       "    'id': 161236190,\n",
       "    'id_str': '161236190',\n",
       "    'indices': [3, 14]}],\n",
       "  'urls': []},\n",
       " 'metadata': {'iso_language_code': 'in', 'result_type': 'recent'},\n",
       " 'source': '<a href=\"http://twitter.com/download/android\" rel=\"nofollow\">Twitter for Android</a>',\n",
       " 'in_reply_to_status_id': None,\n",
       " 'in_reply_to_status_id_str': None,\n",
       " 'in_reply_to_user_id': None,\n",
       " 'in_reply_to_user_id_str': None,\n",
       " 'in_reply_to_screen_name': None,\n",
       " 'user': {'id': 905060896703111169,\n",
       "  'id_str': '905060896703111169',\n",
       "  'name': 'badthingy',\n",
       "  'screen_name': 'sssaasiiy',\n",
       "  'location': 'Jakarta Timur, DKI Jakarta',\n",
       "  'description': 'gatau bingung',\n",
       "  'url': None,\n",
       "  'entities': {'description': {'urls': []}},\n",
       "  'protected': False,\n",
       "  'followers_count': 331,\n",
       "  'friends_count': 363,\n",
       "  'listed_count': 0,\n",
       "  'created_at': 'Tue Sep 05 13:31:47 +0000 2017',\n",
       "  'favourites_count': 2224,\n",
       "  'utc_offset': None,\n",
       "  'time_zone': None,\n",
       "  'geo_enabled': False,\n",
       "  'verified': False,\n",
       "  'statuses_count': 926,\n",
       "  'lang': None,\n",
       "  'contributors_enabled': False,\n",
       "  'is_translator': False,\n",
       "  'is_translation_enabled': False,\n",
       "  'profile_background_color': 'F5F8FA',\n",
       "  'profile_background_image_url': None,\n",
       "  'profile_background_image_url_https': None,\n",
       "  'profile_background_tile': False,\n",
       "  'profile_image_url': 'http://pbs.twimg.com/profile_images/1215907912888942592/PdKuXjsL_normal.jpg',\n",
       "  'profile_image_url_https': 'https://pbs.twimg.com/profile_images/1215907912888942592/PdKuXjsL_normal.jpg',\n",
       "  'profile_banner_url': 'https://pbs.twimg.com/profile_banners/905060896703111169/1543454134',\n",
       "  'profile_link_color': '1DA1F2',\n",
       "  'profile_sidebar_border_color': 'C0DEED',\n",
       "  'profile_sidebar_fill_color': 'DDEEF6',\n",
       "  'profile_text_color': '333333',\n",
       "  'profile_use_background_image': True,\n",
       "  'has_extended_profile': False,\n",
       "  'default_profile': True,\n",
       "  'default_profile_image': False,\n",
       "  'following': False,\n",
       "  'follow_request_sent': False,\n",
       "  'notifications': False,\n",
       "  'translator_type': 'none'},\n",
       " 'geo': None,\n",
       " 'coordinates': None,\n",
       " 'place': None,\n",
       " 'contributors': None,\n",
       " 'retweeted_status': {'created_at': 'Sat Jan 25 07:26:18 +0000 2020',\n",
       "  'id': 1220971137074491392,\n",
       "  'id_str': '1220971137074491392',\n",
       "  'text': 'Saat ini, dunia sedang mewaspadai penyebaran Novel Coronavirus (2019-nCoV) yg berasal dari Tiongkok. Virus baru ini… https://t.co/CS36ooBlqY',\n",
       "  'truncated': True,\n",
       "  'entities': {'hashtags': [],\n",
       "   'symbols': [],\n",
       "   'user_mentions': [],\n",
       "   'urls': [{'url': 'https://t.co/CS36ooBlqY',\n",
       "     'expanded_url': 'https://twitter.com/i/web/status/1220971137074491392',\n",
       "     'display_url': 'twitter.com/i/web/status/1…',\n",
       "     'indices': [117, 140]}]},\n",
       "  'metadata': {'iso_language_code': 'in', 'result_type': 'recent'},\n",
       "  'source': '<a href=\"http://twitter.com/download/iphone\" rel=\"nofollow\">Twitter for iPhone</a>',\n",
       "  'in_reply_to_status_id': None,\n",
       "  'in_reply_to_status_id_str': None,\n",
       "  'in_reply_to_user_id': None,\n",
       "  'in_reply_to_user_id_str': None,\n",
       "  'in_reply_to_screen_name': None,\n",
       "  'user': {'id': 161236190,\n",
       "   'id_str': '161236190',\n",
       "   'name': 'Kemenkes RI',\n",
       "   'screen_name': 'KemenkesRI',\n",
       "   'location': 'Jakarta, Indonesia',\n",
       "   'description': 'Kementerian Kesehatan RI; Jl. HR. Rasuna Said Blok X5 Kav. 4-9, Jakarta Selatan 12950;  Telp: (021) 52907416-9 Halo Kemenkes: (kode lokal) 1-500567',\n",
       "   'url': 'https://t.co/ShcvnJmJcv',\n",
       "   'entities': {'url': {'urls': [{'url': 'https://t.co/ShcvnJmJcv',\n",
       "       'expanded_url': 'http://www.sehatnegeriku.kemkes.go.id',\n",
       "       'display_url': 'sehatnegeriku.kemkes.go.id',\n",
       "       'indices': [0, 23]}]},\n",
       "    'description': {'urls': []}},\n",
       "   'protected': False,\n",
       "   'followers_count': 234582,\n",
       "   'friends_count': 199,\n",
       "   'listed_count': 326,\n",
       "   'created_at': 'Wed Jun 30 09:45:04 +0000 2010',\n",
       "   'favourites_count': 144,\n",
       "   'utc_offset': None,\n",
       "   'time_zone': None,\n",
       "   'geo_enabled': True,\n",
       "   'verified': True,\n",
       "   'statuses_count': 40156,\n",
       "   'lang': None,\n",
       "   'contributors_enabled': False,\n",
       "   'is_translator': False,\n",
       "   'is_translation_enabled': False,\n",
       "   'profile_background_color': '0099B9',\n",
       "   'profile_background_image_url': 'http://abs.twimg.com/images/themes/theme16/bg.gif',\n",
       "   'profile_background_image_url_https': 'https://abs.twimg.com/images/themes/theme16/bg.gif',\n",
       "   'profile_background_tile': True,\n",
       "   'profile_image_url': 'http://pbs.twimg.com/profile_images/976287654894485504/UbG2aB7c_normal.jpg',\n",
       "   'profile_image_url_https': 'https://pbs.twimg.com/profile_images/976287654894485504/UbG2aB7c_normal.jpg',\n",
       "   'profile_banner_url': 'https://pbs.twimg.com/profile_banners/161236190/1572312417',\n",
       "   'profile_link_color': '19CF86',\n",
       "   'profile_sidebar_border_color': 'BDDCAD',\n",
       "   'profile_sidebar_fill_color': 'DDFFCC',\n",
       "   'profile_text_color': '333333',\n",
       "   'profile_use_background_image': True,\n",
       "   'has_extended_profile': False,\n",
       "   'default_profile': False,\n",
       "   'default_profile_image': False,\n",
       "   'following': False,\n",
       "   'follow_request_sent': False,\n",
       "   'notifications': False,\n",
       "   'translator_type': 'none'},\n",
       "  'geo': None,\n",
       "  'coordinates': None,\n",
       "  'place': None,\n",
       "  'contributors': None,\n",
       "  'is_quote_status': False,\n",
       "  'retweet_count': 13777,\n",
       "  'favorite_count': 10833,\n",
       "  'favorited': False,\n",
       "  'retweeted': False,\n",
       "  'possibly_sensitive': False,\n",
       "  'lang': 'in'},\n",
       " 'is_quote_status': False,\n",
       " 'retweet_count': 13777,\n",
       " 'favorite_count': 0,\n",
       " 'favorited': False,\n",
       " 'retweeted': False,\n",
       " 'lang': 'in'}"
      ]
     },
     "execution_count": 13,
     "metadata": {},
     "output_type": "execute_result"
    }
   ],
   "source": [
    "tweets[40]"
   ]
  },
  {
   "cell_type": "code",
   "execution_count": 51,
   "metadata": {},
   "outputs": [],
   "source": [
    "str_list = [[t[\"user\"][\"location\"],datetime.datetime.strptime(t[\"user\"][\"created_at\"], '%a %b %d %H:%M:%S %z %Y').strftime('%y-%m-%d %H:%M:%S')] for t in tweets] "
   ]
  },
  {
   "cell_type": "code",
   "execution_count": 49,
   "metadata": {},
   "outputs": [],
   "source": [
    "#str_list =filter(None, str_list)\n",
    "#str_list = list(filter(None, str_list))"
   ]
  },
  {
   "cell_type": "code",
   "execution_count": 54,
   "metadata": {},
   "outputs": [],
   "source": [
    "str_new_list= [[i,j] for i,j in str_list if i!=\"\"]"
   ]
  },
  {
   "cell_type": "code",
   "execution_count": 56,
   "metadata": {},
   "outputs": [
    {
     "data": {
      "text/plain": [
       "[['south', '19-06-28 12:50:49'],\n",
       " ['Lampung-Indonesia', '13-01-25 04:41:44'],\n",
       " ['Kota Makassar', '12-07-11 13:16:58'],\n",
       " ['World of MX ', '11-05-14 06:26:48'],\n",
       " ['51.509865, -0.118092', '16-11-13 07:46:28'],\n",
       " ['Italia', '18-09-02 04:42:19'],\n",
       " ['Hong Kong', '09-01-10 23:12:03'],\n",
       " ['Canada', '18-11-06 21:37:55'],\n",
       " ['Kuala Lumpur, Wilayah Persekut', '18-12-10 09:48:51'],\n",
       " ['กรุงเทพมหานคร, ประเทศไทย', '13-11-13 15:54:26'],\n",
       " ['Cafe Leblanc', '10-05-09 14:41:59'],\n",
       " ['Toronto, Ontario', '17-11-09 05:36:18'],\n",
       " ['Indonesia', '10-06-25 08:30:21'],\n",
       " ['Kuala Lumpur', '11-12-11 14:28:19'],\n",
       " ['Bangkok', '17-04-28 08:34:08'],\n",
       " ['Sabah, Malaysia', '18-12-21 06:38:53'],\n",
       " ['Arau, Perlis', '12-11-02 10:14:38'],\n",
       " ['EXO Planet', '14-07-01 04:26:27'],\n",
       " ['IdoNTknoWme 😳', '18-07-02 10:24:28'],\n",
       " ['⚠️ RPS | mostly PDX related', '18-07-01 17:00:49'],\n",
       " ['มือปราบมารกระทรวงเวทมนตร์', '12-04-13 14:29:13'],\n",
       " ['Calle Hermandad de Donantes de', '19-05-24 17:02:58'],\n",
       " ['Thailand', '14-10-29 19:13:08'],\n",
       " ['日本', '09-09-09 02:19:09'],\n",
       " ['Ampang/Uitm Palam', '12-03-11 12:26:33'],\n",
       " ['National Capital Region, Repub', '15-03-25 05:43:10'],\n",
       " ['Republic of the Philippines', '14-05-22 07:06:06'],\n",
       " ['Jakarta Timur, DKI Jakarta', '17-09-05 13:31:47'],\n",
       " ['Lombardia, Italia', '14-01-18 11:29:50'],\n",
       " [\"Heart's Desire, Newfoundland a\", '13-10-02 13:18:11'],\n",
       " ['MY', '19-11-16 06:59:46'],\n",
       " ['Pennsylvania', '14-09-30 02:59:03'],\n",
       " ['New York, NY', '09-05-02 02:30:13'],\n",
       " ['fan account', '16-04-19 17:31:28'],\n",
       " ['Jogja, Indonesia', '19-01-11 04:43:27'],\n",
       " ['Fairy Tail', '15-02-09 23:36:19'],\n",
       " ['Sens-Dijon', '13-07-04 05:21:49'],\n",
       " ['Magitopia', '09-12-29 15:24:40'],\n",
       " ['Miami, FL', '11-08-24 12:25:48'],\n",
       " ['Türkiye', '19-06-30 09:56:19'],\n",
       " [' Filmmaker @Fucking Neverland ', '10-07-06 04:52:50'],\n",
       " ['Indonesia', '11-12-13 07:34:50'],\n",
       " ['+62', '12-06-24 15:37:36'],\n",
       " ['Ampang', '14-05-07 14:06:51'],\n",
       " ['•𝒍𝒆𝒈𝒆𝒏𝒅 •', '12-02-17 17:18:51'],\n",
       " [\"몬베베 section in wonho's heart \", '19-05-28 16:52:40'],\n",
       " ['Malaysia', '09-04-17 04:37:42'],\n",
       " ['Malaysia', '18-11-19 16:56:44'],\n",
       " ['Malaysia', '11-08-13 12:27:19'],\n",
       " ['SF', '14-12-19 01:36:20'],\n",
       " ['Kota Kinabalu, Sabah', '15-04-03 08:20:57'],\n",
       " ['Taipei', '19-06-11 07:27:39'],\n",
       " ['Strasbourg,  France', '09-09-22 13:02:29'],\n",
       " ['in the space between ', '17-04-08 02:02:52'],\n",
       " ['Segamat, Johor', '09-08-21 17:05:25'],\n",
       " ['Jakarta Capital Region', '19-03-29 02:42:28'],\n",
       " ['İzmir - Alanya', '13-06-06 08:18:47'],\n",
       " ['United States', '19-07-03 17:34:35'],\n",
       " ['indonesia', '11-03-06 06:26:32'],\n",
       " ['Kelantan, Malaysia', '19-01-28 15:01:01'],\n",
       " ['Semporna, Sabah', '19-07-28 13:14:05'],\n",
       " ['Vinirishsays', '10-04-14 14:11:20'],\n",
       " ['จ.ภูเก็ต, ประเทศไทย', '17-04-22 15:35:57'],\n",
       " ['^^넌 날 미치게', '18-04-02 17:07:22'],\n",
       " ['India', '18-08-25 18:00:27'],\n",
       " ['pisay', '16-01-09 02:59:21'],\n",
       " ['香港 观塘', '19-09-04 09:38:24']]"
      ]
     },
     "execution_count": 56,
     "metadata": {},
     "output_type": "execute_result"
    }
   ],
   "source": [
    "str_new_list"
   ]
  },
  {
   "cell_type": "code",
   "execution_count": 57,
   "metadata": {},
   "outputs": [],
   "source": [
    "import time\n",
    "import re\n",
    "from geopy.exc import GeocoderTimedOut\n",
    "def do_geocode(t):\n",
    "    try:\n",
    "        geolocator = Nominatim(user_agent=\"apa\")\n",
    "        location = geolocator.geocode(t)\n",
    "        if location !=None:\n",
    "            return([location.latitude, location.longitude])\n",
    "    except GeocoderTimedOut:\n",
    "        return do_geocode(t)\n",
    "\n",
    "def do_geocode_rev(latlong):\n",
    "    try:\n",
    "        geolocator = Nominatim(user_agent=\"apa\")\n",
    "        location = geolocator.reverse(latlong)\n",
    "        if location !=None:\n",
    "            #newloc= re.sub(\"[^a-zA-Z]+\", \"\", location.address.split(\",\")[-1])\n",
    "            return(location.address.split(\",\")[-1])\n",
    "    except GeocoderTimedOut:\n",
    "        return do_geocode_rev(latlong)\n"
   ]
  },
  {
   "cell_type": "code",
   "execution_count": 58,
   "metadata": {},
   "outputs": [
    {
     "name": "stdout",
     "output_type": "stream",
     "text": [
      "73.30618049999998\n"
     ]
    }
   ],
   "source": [
    "doc={}\n",
    "test_dict={}\n",
    "#test time\n",
    "tic = time.clock()\n",
    "for i,t in enumerate(str_list):\n",
    "    vari = do_geocode(t[0])\n",
    "    if(vari):\n",
    "        #test\n",
    "        country = do_geocode_rev(\"{}, {}\".format(vari[0],vari[1]))\n",
    "        test_dict['location{}'.format(i)]={\"lat\":vari[0],\"lon\":vari[1], \"con\": country,\"DaTime\":t[1]}\n",
    "        doc['location']={\"lat\":vari[0],\"lon\":vari[1], \"con\": country,\"DaTime\":t[1]}\n",
    "toc = time.clock()\n",
    "print(toc-tic)"
   ]
  },
  {
   "cell_type": "code",
   "execution_count": 59,
   "metadata": {},
   "outputs": [],
   "source": [
    "json = json.dumps(test_dict)\n",
    "f = open(\"test_data.json\",\"w\")\n",
    "f.write(json)\n",
    "f.close()"
   ]
  },
  {
   "cell_type": "code",
   "execution_count": 70,
   "metadata": {},
   "outputs": [],
   "source": [
    "#save text data\n",
    "json = json.dumps({\"ttext\":[t[\"text\"] for t in tweets]})\n",
    "f = open(\"text_test_data.json\",\"w\")\n",
    "f.write(json)\n",
    "f.close()"
   ]
  },
  {
   "cell_type": "code",
   "execution_count": null,
   "metadata": {},
   "outputs": [],
   "source": []
  }
 ],
 "metadata": {
  "kernelspec": {
   "display_name": "Python 3.6 (tensorflow)",
   "language": "python",
   "name": "tensorflow"
  },
  "language_info": {
   "codemirror_mode": {
    "name": "ipython",
    "version": 3
   },
   "file_extension": ".py",
   "mimetype": "text/x-python",
   "name": "python",
   "nbconvert_exporter": "python",
   "pygments_lexer": "ipython3",
   "version": "3.6.8"
  }
 },
 "nbformat": 4,
 "nbformat_minor": 2
}
