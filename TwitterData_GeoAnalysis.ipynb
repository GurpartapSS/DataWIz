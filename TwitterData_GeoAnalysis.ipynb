{
 "cells": [
  {
   "cell_type": "code",
   "execution_count": 155,
   "metadata": {},
   "outputs": [],
   "source": [
    "import re \n",
    "import tweepy \n",
    "from tweepy import OAuthHandler  \n",
    "import matplotlib.pyplot as plt\n",
    "import json\n",
    "import geopy\n",
    "from geopy.geocoders import Nominatim   "
   ]
  },
  {
   "cell_type": "code",
   "execution_count": 47,
   "metadata": {},
   "outputs": [
    {
     "name": "stdout",
     "output_type": "stream",
     "text": [
      "Authentication OK\n"
     ]
    }
   ],
   "source": [
    "consumer_key = ''\n",
    "consumer_secret = ''\n",
    "access_token = ''\n",
    "access_token_secret = ''\n",
    "auth = OAuthHandler(consumer_key, consumer_secret) \n",
    "auth.set_access_token(access_token, access_token_secret)    \n",
    "api = tweepy.API(auth)\n",
    "api.verify_credentials()\n",
    "print(\"Authentication OK\")"
   ]
  },
  {
   "cell_type": "code",
   "execution_count": 54,
   "metadata": {},
   "outputs": [],
   "source": [
    "class Client_Twitter(object):\n",
    "  \n",
    "    def __init__(self): \n",
    "            \n",
    "            \n",
    "            # keys and tokens from the Twitter Dev Console\",\n",
    "        consumer_key = ''\n",
    "        consumer_secret = ''\n",
    "        access_token = ''\n",
    "        access_token_secret = ''\n",
    "\n",
    "           \n",
    "        try: \n",
    "                 \n",
    "            self.auth = OAuthHandler(consumer_key, consumer_secret) \n",
    "            self.auth.set_access_token(access_token, access_token_secret)    \n",
    "            self.api = tweepy.API(self.auth)\n",
    "            api.verify_credentials()\n",
    "            print(\"Authentication OK\")\n",
    "        except: \n",
    "            print(\"Error: Authentication Failed\") \n",
    "                \n",
    "            \n",
    "    def get_tweets(self, query, count = 100): \n",
    "       \n",
    "        # empty list to store parsed tweets \n",
    "        tweets = [] \n",
    "  \n",
    "        try: \n",
    "         \n",
    "            fetched_tweets = self.api.search(q = query, count = count)\n",
    "            #(fetched_tweets[0])\n",
    "            \n",
    "            for tweet in fetched_tweets: \n",
    "                ttext = json.dumps(tweet._json)\n",
    "                parsed = json.loads(ttext)\n",
    "                tweets.append(parsed)\n",
    "                \n",
    "               #parsed_tweet['sentiment'] = self.get_tweet_sentiment(tweet.text) \n",
    "  \n",
    "            # return parsed tweets \n",
    "            return tweets \n",
    "  \n",
    "        except tweepy.TweepError as e: \n",
    "            # print error (if any) \n",
    "            print(\"Error : \" + str(e))\n",
    "    \n",
    "    \n",
    "class Location(object):\n",
    "    def getLocation(self,address):\n",
    "        geolocator = Nominatim(user_agent=\"apa\")\n",
    "        location = geolocator.geocode(address)\n",
    "        if location !=None:\n",
    "            return([location.latitude, location.longitude])\n",
    "        else:\n",
    "            return(\"\")"
   ]
  },
  {
   "cell_type": "code",
   "execution_count": 49,
   "metadata": {},
   "outputs": [
    {
     "name": "stdout",
     "output_type": "stream",
     "text": [
      "Authentication OK\n"
     ]
    }
   ],
   "source": [
    "api = Client_Twitter()\n",
    "loc = Location()"
   ]
  },
  {
   "cell_type": "code",
   "execution_count": 50,
   "metadata": {},
   "outputs": [],
   "source": [
    "tweets = api.get_tweets(query = '#coronavirus', count = 100)"
   ]
  },
  {
   "cell_type": "code",
   "execution_count": 66,
   "metadata": {},
   "outputs": [],
   "source": [
    "str_list = [t[\"user\"][\"location\"] for t in tweets]"
   ]
  },
  {
   "cell_type": "code",
   "execution_count": 67,
   "metadata": {},
   "outputs": [],
   "source": [
    "str_list =filter(None, str_list)\n",
    "str_list = list(filter(None, str_list))"
   ]
  },
  {
   "cell_type": "code",
   "execution_count": 132,
   "metadata": {},
   "outputs": [],
   "source": [
    "import time\n",
    "import re\n",
    "from geopy.exc import GeocoderTimedOut\n",
    "def do_geocode(t):\n",
    "    try:\n",
    "        geolocator = Nominatim(user_agent=\"apa\")\n",
    "        location = geolocator.geocode(t)\n",
    "        if location !=None:\n",
    "            return([location.latitude, location.longitude])\n",
    "    except GeocoderTimedOut:\n",
    "        return do_geocode(t)\n",
    "\n",
    "def do_geocode_rev(latlong):\n",
    "    try:\n",
    "        geolocator = Nominatim(user_agent=\"apa\")\n",
    "        location = geolocator.reverse(latlong)\n",
    "        if location !=None:\n",
    "            #newloc= re.sub(\"[^a-zA-Z]+\", \"\", location.address.split(\",\")[-1])\n",
    "            return(location.address.split(\",\")[-1])\n",
    "    except GeocoderTimedOut:\n",
    "        return do_geocode_rev(latlong)\n"
   ]
  },
  {
   "cell_type": "code",
   "execution_count": 130,
   "metadata": {},
   "outputs": [
    {
     "name": "stdout",
     "output_type": "stream",
     "text": [
      "69.08583429999999\n"
     ]
    }
   ],
   "source": [
    "doc={}\n",
    "test_dict={}\n",
    "#test time\n",
    "tic = time.clock()\n",
    "for i,t in enumerate(str_list):\n",
    "    vari = do_geocode(t)\n",
    "    if(vari):\n",
    "        #test\n",
    "        country = do_geocode_rev(\"{}, {}\".format(vari[0],vari[1]))\n",
    "        test_dict['location{}'.format(i)]={\"lat\":vari[0],\"lon\":vari[1], \"con\": country}\n",
    "        doc['location']={\"lat\":vari[0],\"lon\":vari[1], \"con\": country}\n",
    "toc = time.clock()\n",
    "print(toc-tic)"
   ]
  },
  {
   "cell_type": "code",
   "execution_count": 156,
   "metadata": {},
   "outputs": [],
   "source": [
    "json = json.dumps(test_dict)\n",
    "f = open(\"test_data.json\",\"w\")\n",
    "f.write(json)\n",
    "f.close()"
   ]
  }
 ],
 "metadata": {
  "kernelspec": {
   "display_name": "Python 3.6 (tensorflow)",
   "language": "python",
   "name": "tensorflow"
  },
  "language_info": {
   "codemirror_mode": {
    "name": "ipython",
    "version": 3
   },
   "file_extension": ".py",
   "mimetype": "text/x-python",
   "name": "python",
   "nbconvert_exporter": "python",
   "pygments_lexer": "ipython3",
   "version": "3.6.8"
  }
 },
 "nbformat": 4,
 "nbformat_minor": 2
}
