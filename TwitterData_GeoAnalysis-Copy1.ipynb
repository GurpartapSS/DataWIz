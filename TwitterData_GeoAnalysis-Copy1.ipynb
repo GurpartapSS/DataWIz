{
 "cells": [
  {
   "cell_type": "code",
   "execution_count": 1,
   "metadata": {},
   "outputs": [],
   "source": [
    "import re \n",
    "import tweepy \n",
    "from tweepy import OAuthHandler  \n",
    "import matplotlib.pyplot as plt\n",
    "import json\n",
    "import geopy\n",
    "from geopy.geocoders import Nominatim   \n",
    "from elasticsearch import Elasticsearch"
   ]
  },
  {
   "cell_type": "code",
   "execution_count": 4,
   "metadata": {},
   "outputs": [
    {
     "name": "stdout",
     "output_type": "stream",
     "text": [
      "Authentication OK\n"
     ]
    }
   ],
   "source": [
    "consumer_key = 'fvK9QDOLVp1CedyCR5Dz76wjZ'\n",
    "consumer_secret = 'UBb22R7pwil0DSfvcdXI4NOWVwCSID1W8fkFHL0T9s0bxlTtCS'\n",
    "access_token = '468385324-9yRxQ5yZGRAEQwCxDqtxBzz4jAbDOt9snLR5tRTh'\n",
    "access_token_secret = 'Im0bJLSL4uY6Je7PlkNwQEwJg0BKcqKDUJwXtRZlpcSUQ'\n",
    "auth = OAuthHandler(consumer_key, consumer_secret) \n",
    "auth.set_access_token(access_token, access_token_secret)    \n",
    "api = tweepy.API(auth)\n",
    "api.verify_credentials()\n",
    "print(\"Authentication OK\")"
   ]
  },
  {
   "cell_type": "code",
   "execution_count": 5,
   "metadata": {},
   "outputs": [],
   "source": [
    "class Client_Twitter(object):\n",
    "  \n",
    "    def __init__(self): \n",
    "            \n",
    "            \n",
    "            # keys and tokens from the Twitter Dev Console\",\n",
    "        consumer_key = 'fvK9QDOLVp1CedyCR5Dz76wjZ'\n",
    "        consumer_secret = 'UBb22R7pwil0DSfvcdXI4NOWVwCSID1W8fkFHL0T9s0bxlTtCS'\n",
    "        access_token = '468385324-9yRxQ5yZGRAEQwCxDqtxBzz4jAbDOt9snLR5tRTh'\n",
    "        access_token_secret = 'Im0bJLSL4uY6Je7PlkNwQEwJg0BKcqKDUJwXtRZlpcSUQ'\n",
    "\n",
    "           \n",
    "        try: \n",
    "                 \n",
    "            self.auth = OAuthHandler(consumer_key, consumer_secret) \n",
    "            self.auth.set_access_token(access_token, access_token_secret)    \n",
    "            self.api = tweepy.API(self.auth)\n",
    "            api.verify_credentials()\n",
    "            print(\"Authentication OK\")\n",
    "        except: \n",
    "            print(\"Error: Authentication Failed\") \n",
    "                \n",
    "            \n",
    "    def get_tweets(self, query, count = 100): \n",
    "       \n",
    "        # empty list to store parsed tweets \n",
    "        tweets = [] \n",
    "  \n",
    "        try: \n",
    "         \n",
    "            fetched_tweets = self.api.search(q = query, count = count)\n",
    "            #(fetched_tweets[0])\n",
    "            \n",
    "            for tweet in fetched_tweets: \n",
    "                ttext = json.dumps(tweet._json)\n",
    "                parsed = json.loads(ttext)\n",
    "                tweets.append(parsed)\n",
    "                \n",
    "               #parsed_tweet['sentiment'] = self.get_tweet_sentiment(tweet.text) \n",
    "  \n",
    "            # return parsed tweets \n",
    "            return tweets \n",
    "  \n",
    "        except tweepy.TweepError as e: \n",
    "            # print error (if any) \n",
    "            print(\"Error : \" + str(e))\n",
    "    \n",
    "    \n",
    "class Location(object):\n",
    "    def getLocation(self,address):\n",
    "        geolocator = Nominatim(user_agent=\"apa\")\n",
    "        location = geolocator.geocode(address)\n",
    "        if location !=None:\n",
    "            return([location.latitude, location.longitude])\n",
    "        else:\n",
    "            return(\"\")"
   ]
  },
  {
   "cell_type": "code",
   "execution_count": 6,
   "metadata": {},
   "outputs": [
    {
     "name": "stdout",
     "output_type": "stream",
     "text": [
      "Authentication OK\n"
     ]
    }
   ],
   "source": [
    "api = Client_Twitter()\n"
   ]
  },
  {
   "cell_type": "code",
   "execution_count": 7,
   "metadata": {},
   "outputs": [],
   "source": [
    "loc = Location()"
   ]
  },
  {
   "cell_type": "code",
   "execution_count": 50,
   "metadata": {},
   "outputs": [],
   "source": [
    "tweets = api.get_tweets(query = '#coronavirus', count = 100)"
   ]
  },
  {
   "cell_type": "code",
   "execution_count": 66,
   "metadata": {},
   "outputs": [],
   "source": [
    "str_list = [t[\"user\"][\"location\"] for t in tweets]"
   ]
  },
  {
   "cell_type": "code",
   "execution_count": 67,
   "metadata": {},
   "outputs": [],
   "source": [
    "str_list =filter(None, str_list)\n",
    "str_list = list(filter(None, str_list))"
   ]
  },
  {
   "cell_type": "code",
   "execution_count": 132,
   "metadata": {},
   "outputs": [],
   "source": [
    "import time\n",
    "import re\n",
    "from geopy.exc import GeocoderTimedOut\n",
    "def do_geocode(t):\n",
    "    try:\n",
    "        geolocator = Nominatim(user_agent=\"apa\")\n",
    "        location = geolocator.geocode(t)\n",
    "        if location !=None:\n",
    "            return([location.latitude, location.longitude])\n",
    "    except GeocoderTimedOut:\n",
    "        return do_geocode(t)\n",
    "\n",
    "def do_geocode_rev(latlong):\n",
    "    try:\n",
    "        geolocator = Nominatim(user_agent=\"apa\")\n",
    "        location = geolocator.reverse(latlong)\n",
    "        if location !=None:\n",
    "            #newloc= re.sub(\"[^a-zA-Z]+\", \"\", location.address.split(\",\")[-1])\n",
    "            return(location.address.split(\",\")[-1])\n",
    "    except GeocoderTimedOut:\n",
    "        return do_geocode_rev(latlong)\n"
   ]
  },
  {
   "cell_type": "code",
   "execution_count": 130,
   "metadata": {},
   "outputs": [
    {
     "name": "stdout",
     "output_type": "stream",
     "text": [
      "69.08583429999999\n"
     ]
    }
   ],
   "source": [
    "doc={}\n",
    "test_dict={}\n",
    "#test time\n",
    "tic = time.clock()\n",
    "for i,t in enumerate(str_list):\n",
    "    vari = do_geocode(t)\n",
    "    if(vari):\n",
    "        #test\n",
    "        country = do_geocode_rev(\"{}, {}\".format(vari[0],vari[1]))\n",
    "        test_dict['location{}'.format(i)]={\"lat\":vari[0],\"lon\":vari[1], \"con\": country}\n",
    "        doc['location']={\"lat\":vari[0],\"lon\":vari[1], \"con\": country}\n",
    "toc = time.clock()\n",
    "print(toc-tic)"
   ]
  },
  {
   "cell_type": "code",
   "execution_count": 156,
   "metadata": {},
   "outputs": [],
   "source": [
    "json = json.dumps(test_dict)\n",
    "f = open(\"test_data.json\",\"w\")\n",
    "f.write(json)\n",
    "f.close()"
   ]
  },
  {
   "cell_type": "code",
   "execution_count": 16,
   "metadata": {},
   "outputs": [],
   "source": [
    "es=Elasticsearch([{'host':'localhost','port':9200}])\n",
    "mapping = {\n",
    "\t\"mappings\": {\n",
    "        \"properties\": {\n",
    "            \"location\": {\n",
    "                     \"type\": \"geo_point\"\n",
    "             },\n",
    "\t\t\t \"country\": {\n",
    "                     \"type\": \"text\"\n",
    "             },\n",
    "            \"date\": {\n",
    "                    \"type\":   \"date\",\n",
    "                    \"format\": \"yyyy-MM-dd HH:mm:ss\"\n",
    "\t\t\t }\n",
    "        }\n",
    "    }\n",
    "}"
   ]
  },
  {
   "cell_type": "code",
   "execution_count": 22,
   "metadata": {},
   "outputs": [
    {
     "ename": "NameError",
     "evalue": "name 'delete' is not defined",
     "output_type": "error",
     "traceback": [
      "\u001b[1;31m---------------------------------------------------------------------------\u001b[0m",
      "\u001b[1;31mNameError\u001b[0m                                 Traceback (most recent call last)",
      "\u001b[1;32m<ipython-input-22-6221d7f0fd19>\u001b[0m in \u001b[0;36m<module>\u001b[1;34m\u001b[0m\n\u001b[1;32m----> 1\u001b[1;33m \u001b[0mdelete\u001b[0m \u001b[1;33m/\u001b[0m\u001b[0mdatawiz\u001b[0m\u001b[1;33m\u001b[0m\u001b[1;33m\u001b[0m\u001b[0m\n\u001b[0m",
      "\u001b[1;31mNameError\u001b[0m: name 'delete' is not defined"
     ]
    }
   ],
   "source": [
    "delete /datawiz"
   ]
  },
  {
   "cell_type": "code",
   "execution_count": 18,
   "metadata": {},
   "outputs": [
    {
     "data": {
      "text/plain": [
       "{'acknowledged': True, 'shards_acknowledged': True, 'index': 'datawiz'}"
      ]
     },
     "execution_count": 18,
     "metadata": {},
     "output_type": "execute_result"
    }
   ],
   "source": [
    "es.indices.create(index='datawiz', body=mapping)"
   ]
  },
  {
   "cell_type": "code",
   "execution_count": 9,
   "metadata": {},
   "outputs": [],
   "source": [
    "f = open(\"test_data.json\",\"r\")"
   ]
  },
  {
   "cell_type": "code",
   "execution_count": 10,
   "metadata": {},
   "outputs": [],
   "source": [
    "data = json.load(f)"
   ]
  },
  {
   "cell_type": "code",
   "execution_count": 11,
   "metadata": {},
   "outputs": [
    {
     "data": {
      "text/plain": [
       "{'lat': 5.3663769, 'lon': 100.5525705, 'con': 'Malaysia'}"
      ]
     },
     "execution_count": 11,
     "metadata": {},
     "output_type": "execute_result"
    }
   ],
   "source": [
    "doc = {\n",
    "    \"location\": {\n",
    "        \"lat\": 5.3663769,\n",
    "        \"lon\": 100.5525705\n",
    "    },\n",
    "\t\"country\": \"\"\n",
    "}"
   ]
  },
  {
   "cell_type": "code",
   "execution_count": 21,
   "metadata": {},
   "outputs": [
    {
     "name": "stdout",
     "output_type": "stream",
     "text": [
      "5.3663769 100.5525705 Malaysia\n",
      "52.3882858 -1.8766952 UnitedKingdom\n",
      "34.2331373 -102.4107493 UnitedStatesofAmerica\n",
      "35.6873026 -105.9399697 UnitedStatesofAmerica\n",
      "34.395342 -111.7632755 UnitedStatesofAmerica\n",
      "4.5693754 102.2656823 Malaysia\n",
      "-6.9344694 107.6049539 Indonesia\n",
      "28.1019159 30.7524373 Egypt\n",
      "12.6090157 -85.2936911 Nicaragua\n",
      "19.4326009 -99.1333416 Mxico\n",
      "25.9102008 109.1780889 China\n",
      "16.67613485 81.17086824015968 India\n",
      "6.4300279 3.4259904 Nigeria\n",
      "6.9349969 79.8538463 SriLanka\n",
      "53.4560524 -2.1168369 UnitedKingdom\n",
      "-6.1753942 106.827183 Indonesia\n",
      "4.5693754 102.2656823 Malaysia\n",
      "-37.8142176 144.9631608 Australia\n",
      "36.69554 -80.269546 UnitedStatesofAmerica\n",
      "-24.7761086 134.755 Australia\n",
      "22.3140729 114.0423646 China\n",
      "3.1516636 101.6943028 Malaysia\n",
      "-6.9344694 107.6049539 Indonesia\n",
      "3.1516636 101.6943028 Malaysia\n",
      "54.6631376 -6.228198934550507 UnitedKingdom\n",
      "36.7014631 -118.7559974 UnitedStatesofAmerica\n",
      "37.564982549999996 126.93921080358436 \n",
      "-6.16156235 106.74389124027667 Indonesia\n",
      "-7.5388376 112.2379849 Indonesia\n",
      "43.671459150000004 -79.55249206611668 Canada\n",
      "-7.39979995 109.92096446847731 Indonesia\n",
      "46.7978131 13.3665012 sterreich\n",
      "5.9682875 100.6660103 Malaysia\n",
      "36.7014631 -118.7559974 UnitedStatesofAmerica\n",
      "3.8196701 103.3292235 Malaysia\n",
      "-12.0621065 -77.0365256 Peru\n",
      "14.363668 121.0531876 Philippines\n",
      "5.9780066 116.0728988 Malaysia\n",
      "49.88525745 -97.14146180422114 Canada\n",
      "31.5301809 -82.8405691 UnitedStatesofAmerica\n",
      "13.7538929 100.8160803 \n",
      "12.7503486 122.7312101 Philippines\n",
      "43.653963 -79.387207 Canada\n",
      "19.0974031 -70.3028026 RepblicaDominicana\n",
      "3.1516636 101.6943028 Malaysia\n",
      "19.4326009 -99.1333416 Mxico\n",
      "33.7389471 44.6200088 Iraq\n",
      "4.59808 -74.0760439 Colombia\n"
     ]
    }
   ],
   "source": [
    "for i in data:\n",
    "    print(data[str(i)]['lat'],data[str(i)]['lon'],data[str(i)]['con'])"
   ]
  },
  {
   "cell_type": "code",
   "execution_count": 15,
   "metadata": {},
   "outputs": [
    {
     "name": "stdout",
     "output_type": "stream",
     "text": [
      "{'location1': {'lat': 5.3663769, 'lon': 100.5525705, 'con': 'Malaysia'}, 'location2': {'lat': 52.3882858, 'lon': -1.8766952, 'con': 'UnitedKingdom'}, 'location3': {'lat': 34.2331373, 'lon': -102.4107493, 'con': 'UnitedStatesofAmerica'}, 'location4': {'lat': 35.6873026, 'lon': -105.9399697, 'con': 'UnitedStatesofAmerica'}, 'location5': {'lat': 34.395342, 'lon': -111.7632755, 'con': 'UnitedStatesofAmerica'}, 'location7': {'lat': 4.5693754, 'lon': 102.2656823, 'con': 'Malaysia'}, 'location8': {'lat': -6.9344694, 'lon': 107.6049539, 'con': 'Indonesia'}, 'location9': {'lat': 28.1019159, 'lon': 30.7524373, 'con': 'Egypt'}, 'location10': {'lat': 12.6090157, 'lon': -85.2936911, 'con': 'Nicaragua'}, 'location11': {'lat': 19.4326009, 'lon': -99.1333416, 'con': 'Mxico'}, 'location12': {'lat': 25.9102008, 'lon': 109.1780889, 'con': 'China'}, 'location14': {'lat': 16.67613485, 'lon': 81.17086824015968, 'con': 'India'}, 'location15': {'lat': 6.4300279, 'lon': 3.4259904, 'con': 'Nigeria'}, 'location16': {'lat': 6.9349969, 'lon': 79.8538463, 'con': 'SriLanka'}, 'location17': {'lat': 53.4560524, 'lon': -2.1168369, 'con': 'UnitedKingdom'}, 'location18': {'lat': -6.1753942, 'lon': 106.827183, 'con': 'Indonesia'}, 'location20': {'lat': 4.5693754, 'lon': 102.2656823, 'con': 'Malaysia'}, 'location22': {'lat': -37.8142176, 'lon': 144.9631608, 'con': 'Australia'}, 'location24': {'lat': 36.69554, 'lon': -80.269546, 'con': 'UnitedStatesofAmerica'}, 'location26': {'lat': -24.7761086, 'lon': 134.755, 'con': 'Australia'}, 'location28': {'lat': 22.3140729, 'lon': 114.0423646, 'con': 'China'}, 'location29': {'lat': 3.1516636, 'lon': 101.6943028, 'con': 'Malaysia'}, 'location30': {'lat': -6.9344694, 'lon': 107.6049539, 'con': 'Indonesia'}, 'location31': {'lat': 3.1516636, 'lon': 101.6943028, 'con': 'Malaysia'}, 'location32': {'lat': 54.6631376, 'lon': -6.228198934550507, 'con': 'UnitedKingdom'}, 'location33': {'lat': 36.7014631, 'lon': -118.7559974, 'con': 'UnitedStatesofAmerica'}, 'location34': {'lat': 37.564982549999996, 'lon': 126.93921080358436, 'con': ''}, 'location35': {'lat': -6.16156235, 'lon': 106.74389124027667, 'con': 'Indonesia'}, 'location37': {'lat': -7.5388376, 'lon': 112.2379849, 'con': 'Indonesia'}, 'location39': {'lat': 43.671459150000004, 'lon': -79.55249206611668, 'con': 'Canada'}, 'location40': {'lat': -7.39979995, 'lon': 109.92096446847731, 'con': 'Indonesia'}, 'location41': {'lat': 46.7978131, 'lon': 13.3665012, 'con': 'sterreich'}, 'location43': {'lat': 5.9682875, 'lon': 100.6660103, 'con': 'Malaysia'}, 'location45': {'lat': 36.7014631, 'lon': -118.7559974, 'con': 'UnitedStatesofAmerica'}, 'location46': {'lat': 3.8196701, 'lon': 103.3292235, 'con': 'Malaysia'}, 'location47': {'lat': -12.0621065, 'lon': -77.0365256, 'con': 'Peru'}, 'location48': {'lat': 14.363668, 'lon': 121.0531876, 'con': 'Philippines'}, 'location49': {'lat': 5.9780066, 'lon': 116.0728988, 'con': 'Malaysia'}, 'location50': {'lat': 49.88525745, 'lon': -97.14146180422114, 'con': 'Canada'}, 'location51': {'lat': 31.5301809, 'lon': -82.8405691, 'con': 'UnitedStatesofAmerica'}, 'location52': {'lat': 13.7538929, 'lon': 100.8160803, 'con': ''}, 'location54': {'lat': 12.7503486, 'lon': 122.7312101, 'con': 'Philippines'}, 'location55': {'lat': 43.653963, 'lon': -79.387207, 'con': 'Canada'}, 'location56': {'lat': 19.0974031, 'lon': -70.3028026, 'con': 'RepblicaDominicana'}, 'location57': {'lat': 3.1516636, 'lon': 101.6943028, 'con': 'Malaysia'}, 'location58': {'lat': 19.4326009, 'lon': -99.1333416, 'con': 'Mxico'}, 'location59': {'lat': 33.7389471, 'lon': 44.6200088, 'con': 'Iraq'}, 'location60': {'lat': 4.59808, 'lon': -74.0760439, 'con': 'Colombia'}}\n"
     ]
    }
   ],
   "source": []
  },
  {
   "cell_type": "code",
   "execution_count": null,
   "metadata": {},
   "outputs": [],
   "source": []
  }
 ],
 "metadata": {
  "kernelspec": {
   "display_name": "Python 3",
   "language": "python",
   "name": "python3"
  },
  "language_info": {
   "codemirror_mode": {
    "name": "ipython",
    "version": 3
   },
   "file_extension": ".py",
   "mimetype": "text/x-python",
   "name": "python",
   "nbconvert_exporter": "python",
   "pygments_lexer": "ipython3",
   "version": "3.7.3"
  }
 },
 "nbformat": 4,
 "nbformat_minor": 2
}
