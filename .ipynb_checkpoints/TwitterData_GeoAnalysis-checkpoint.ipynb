{
 "cells": [
  {
   "cell_type": "code",
   "execution_count": 2,
   "metadata": {},
   "outputs": [],
   "source": [
    "import re \n",
    "import tweepy \n",
    "from tweepy import OAuthHandler  \n",
    "import matplotlib.pyplot as plt\n",
    "import json"
   ]
  },
  {
   "cell_type": "code",
   "execution_count": 39,
   "metadata": {},
   "outputs": [],
   "source": [
    "class Client_Twitter(object):\n",
    "  \n",
    "    def __init__(self): \n",
    "            \n",
    "            \n",
    "            # keys and tokens from the Twitter Dev Console\",\n",
    "        consumer_key = 'LYV1mcfHa5GH6dXlVRCjwcTFl'\n",
    "        consumer_secret = 'FJkjSLUIbwX7uSdRwRPIrsyeMyg3lS2eYbgDytvOW4RySRGmxL'\n",
    "        access_token = '468385324-SskdAr8UPQ87cne48W8MMUBBgP33QgbcJxNXrFFH'\n",
    "        access_token_secret = 'OVIVoaB2RXeD9ZWxqpwPy9VgdwbqMAA10D02z3uGnvmeN'\n",
    "\n",
    "           \n",
    "        try: \n",
    "                 \n",
    "            self.auth = OAuthHandler(consumer_key, consumer_secret) \n",
    "                \n",
    "            self.auth.set_access_token(access_token, access_token_secret) \n",
    "                \n",
    "            self.api = tweepy.API(self.auth) \n",
    "            api.verify_credentials()\n",
    "            print(\"Authentication OK\")\n",
    "        except: \n",
    "            print(\"Error: Authentication Failed\") \n",
    "                \n",
    "            \n",
    "    def get_tweets(self, query, count = 100): \n",
    "       \n",
    "        # empty list to store parsed tweets \n",
    "        tweets = [] \n",
    "  \n",
    "        try: \n",
    "         \n",
    "            fetched_tweets = self.api.search(q = query, count = count)\n",
    "            #(fetched_tweets[0])\n",
    "            \n",
    "            for tweet in fetched_tweets: \n",
    "                ttext = json.dumps(tweet._json)\n",
    "                parsed = json.loads(ttext)\n",
    "                tweets.append(parsed)\n",
    "                \n",
    "               #parsed_tweet['sentiment'] = self.get_tweet_sentiment(tweet.text) \n",
    "  \n",
    "            # return parsed tweets \n",
    "            return tweets \n",
    "  \n",
    "        except tweepy.TweepError as e: \n",
    "            # print error (if any) \n",
    "            print(\"Error : \" + str(e))\n",
    "            "
   ]
  },
  {
   "cell_type": "code",
   "execution_count": 40,
   "metadata": {},
   "outputs": [
    {
     "name": "stdout",
     "output_type": "stream",
     "text": [
      "Error: Authentication Failed\n"
     ]
    }
   ],
   "source": [
    "def main(keyword):\n",
    "    api = Client_Twitter()\n",
    "    tweets = api.get_tweets(query = keyword, count = 200)"
   ]
  }
 ],
 "metadata": {
  "kernelspec": {
   "display_name": "Python 3.6 (tensorflow)",
   "language": "python",
   "name": "tensorflow"
  },
  "language_info": {
   "codemirror_mode": {
    "name": "ipython",
    "version": 3
   },
   "file_extension": ".py",
   "mimetype": "text/x-python",
   "name": "python",
   "nbconvert_exporter": "python",
   "pygments_lexer": "ipython3",
   "version": "3.6.8"
  }
 },
 "nbformat": 4,
 "nbformat_minor": 2
}
